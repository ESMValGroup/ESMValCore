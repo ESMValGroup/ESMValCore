{
 "cells": [
  {
   "cell_type": "code",
   "execution_count": 1,
   "id": "f0ccfe7f-c535-4606-99ce-be24960aece1",
   "metadata": {},
   "outputs": [],
   "source": [
    "from esmvalcore.experimental import CFG\n",
    "from esmvalcore.dataset import Dataset, datasets_to_recipe\n",
    "import yaml"
   ]
  },
  {
   "cell_type": "code",
   "execution_count": 2,
   "id": "5ece21dc-5531-42f4-b733-a2912a30a191",
   "metadata": {},
   "outputs": [
    {
     "data": {
      "text/plain": [
       "Session({'auxiliary_data_dir': PosixPath('/home/bandela/esmvaltool_extra_data'),\n",
       "         'check_level': <CheckLevels.DEFAULT: 3>,\n",
       "         'compress_netcdf': False,\n",
       "         'config_developer_file': None,\n",
       "         'config_file': PosixPath('/home/bandela/.esmvaltool/config-user.yml'),\n",
       "         'download_dir': PosixPath('/home/bandela/climate_data'),\n",
       "         'drs': {'CMIP3': 'ESGF',\n",
       "                 'CMIP5': 'ESGF',\n",
       "                 'CMIP6': 'ESGF',\n",
       "                 'CORDEX': 'ESGF',\n",
       "                 'obs4MIPs': 'ESGF'},\n",
       "         'exit_on_warning': False,\n",
       "         'extra_facets_dir': (),\n",
       "         'log_level': 'info',\n",
       "         'max_datasets': None,\n",
       "         'max_parallel_tasks': 1,\n",
       "         'max_years': None,\n",
       "         'offline': True,\n",
       "         'output_dir': PosixPath('/home/bandela/esmvaltool_output'),\n",
       "         'output_file_type': 'png',\n",
       "         'profile_diagnostic': False,\n",
       "         'remove_preproc_dir': False,\n",
       "         'resume_from': [],\n",
       "         'rootpath': {'OBS': [PosixPath('/home/bandela/esmvaltool_input/OBS')],\n",
       "                      'OBS6': [PosixPath('/home/bandela/esmvaltool_input/OBS6')],\n",
       "                      'RAWOBS': [PosixPath('/home/bandela/esmvaltool_input/RAWOBS')],\n",
       "                      'default': [PosixPath('/home/bandela/climate_data')],\n",
       "                      'native6': [PosixPath('/home/bandela/esmvaltool_input/RAWOBS')]},\n",
       "         'run_diagnostic': True,\n",
       "         'save_intermediary_cubes': False})"
      ]
     },
     "execution_count": 2,
     "metadata": {},
     "output_type": "execute_result"
    }
   ],
   "source": [
    "session = CFG.start_session('test_session')\n",
    "session"
   ]
  },
  {
   "cell_type": "code",
   "execution_count": 3,
   "id": "50a2736f-a5ef-4d06-8685-0d4564ce28b8",
   "metadata": {},
   "outputs": [
    {
     "data": {
      "text/plain": [
       "Dataset:\n",
       "{'dataset': 'CanESM2',\n",
       " 'project': 'CMIP5',\n",
       " 'mip': 'Amon',\n",
       " 'short_name': 'tas',\n",
       " 'ensemble': 'r1i1p1',\n",
       " 'exp': 'historical',\n",
       " 'timerange': '2000/2002'}"
      ]
     },
     "execution_count": 3,
     "metadata": {},
     "output_type": "execute_result"
    }
   ],
   "source": [
    "ds = Dataset(short_name='tas', mip='Amon', project='CMIP5', dataset='CanESM2', ensemble='r1i1p1', exp='historical', timerange='2000/2002')\n",
    "ds"
   ]
  },
  {
   "cell_type": "code",
   "execution_count": 4,
   "id": "d1de7ab3-f0ab-40c7-ab19-c9921b755f44",
   "metadata": {},
   "outputs": [
    {
     "data": {
      "text/plain": [
       "[Dataset:\n",
       " {'dataset': 'CanESM2',\n",
       "  'project': 'CMIP5',\n",
       "  'mip': 'fx',\n",
       "  'short_name': 'areacella',\n",
       "  'ensemble': 'r0i0p0',\n",
       "  'exp': 'historical',\n",
       "  'timerange': '2000/2002'}]"
      ]
     },
     "execution_count": 4,
     "metadata": {},
     "output_type": "execute_result"
    }
   ],
   "source": [
    "ds.add_ancillary(short_name='areacella', mip='fx', ensemble='r0i0p0')\n",
    "ds.ancillaries"
   ]
  },
  {
   "cell_type": "code",
   "execution_count": 5,
   "id": "8c390e6d-a5bd-43bf-b48d-3b17dfdf1061",
   "metadata": {},
   "outputs": [
    {
     "name": "stdout",
     "output_type": "stream",
     "text": [
      "Dataset:\n",
      "{'dataset': 'CanESM2',\n",
      " 'project': 'CMIP5',\n",
      " 'mip': 'Amon',\n",
      " 'short_name': 'tas',\n",
      " 'ensemble': 'r1i1p1',\n",
      " 'exp': 'historical',\n",
      " 'frequency': 'mon',\n",
      " 'institute': ['CCCma'],\n",
      " 'long_name': 'Near-Surface Air Temperature',\n",
      " 'modeling_realm': ['atmos'],\n",
      " 'original_short_name': 'tas',\n",
      " 'product': ['output1', 'output2'],\n",
      " 'standard_name': 'air_temperature',\n",
      " 'timerange': '2000/2002',\n",
      " 'units': 'K'}\n",
      "ancillaries:\n",
      "  {'dataset': 'CanESM2',\n",
      "   'project': 'CMIP5',\n",
      "   'mip': 'fx',\n",
      "   'short_name': 'areacella',\n",
      "   'ensemble': 'r0i0p0',\n",
      "   'exp': 'historical',\n",
      "   'frequency': 'fx',\n",
      "   'institute': ['CCCma'],\n",
      "   'long_name': 'Atmosphere Grid-Cell Area',\n",
      "   'modeling_realm': ['atmos', 'land'],\n",
      "   'original_short_name': 'areacella',\n",
      "   'product': ['output1', 'output2'],\n",
      "   'standard_name': 'cell_area',\n",
      "   'timerange': '2000/2002',\n",
      "   'units': 'm2'}\n",
      "[Dataset:\n",
      "{'dataset': 'CanESM2',\n",
      " 'project': 'CMIP5',\n",
      " 'mip': 'fx',\n",
      " 'short_name': 'areacella',\n",
      " 'ensemble': 'r0i0p0',\n",
      " 'exp': 'historical',\n",
      " 'frequency': 'fx',\n",
      " 'institute': ['CCCma'],\n",
      " 'long_name': 'Atmosphere Grid-Cell Area',\n",
      " 'modeling_realm': ['atmos', 'land'],\n",
      " 'original_short_name': 'areacella',\n",
      " 'product': ['output1', 'output2'],\n",
      " 'standard_name': 'cell_area',\n",
      " 'timerange': '2000/2002',\n",
      " 'units': 'm2'}]\n"
     ]
    }
   ],
   "source": [
    "ds.session = session\n",
    "ds.augment_facets()\n",
    "print(ds)\n",
    "print(ds.ancillaries)"
   ]
  },
  {
   "cell_type": "code",
   "execution_count": 6,
   "id": "b01e5331-1ea9-4782-953c-f0b47d857657",
   "metadata": {},
   "outputs": [
    {
     "name": "stdout",
     "output_type": "stream",
     "text": [
      "['/home/bandela/climate_data/cmip5/output1/CCCma/CanESM2/historical/mon/atmos/Amon/r1i1p1/v20120718/tas_Amon_CanESM2_historical_r1i1p1_185001-200512.nc']\n",
      "['/home/bandela/climate_data/cmip5/output1/CCCma/CanESM2/historical/fx/atmos/fx/r0i0p0/v20120410/areacella_fx_CanESM2_historical_r0i0p0.nc']\n"
     ]
    }
   ],
   "source": [
    "ds.find_files()\n",
    "print(ds.files)\n",
    "for anc in ds.ancillaries:\n",
    "    print(anc.files)"
   ]
  },
  {
   "cell_type": "code",
   "execution_count": 7,
   "id": "14197fe3-810d-45ee-beb5-879574d9ff1d",
   "metadata": {},
   "outputs": [],
   "source": [
    "#cube = ds.load()\n",
    "#cube"
   ]
  },
  {
   "cell_type": "code",
   "execution_count": 8,
   "id": "24cc0294-a4e3-4d0b-8769-5ea9c0f8584c",
   "metadata": {},
   "outputs": [],
   "source": [
    "#cell_area = cube.cell_measures()[0]\n",
    "#cell_area"
   ]
  },
  {
   "cell_type": "code",
   "execution_count": 9,
   "id": "d02ee238-d048-4908-acf9-29caea5ed59e",
   "metadata": {},
   "outputs": [
    {
     "name": "stdout",
     "output_type": "stream",
     "text": [
      "diagnostics:\n",
      "  diagnostic:\n",
      "    variables:\n",
      "      tas:\n",
      "        additional_datasets:\n",
      "        - mip: Amon\n",
      "          project: CMIP5\n",
      "          dataset: CanESM2\n",
      "          ensemble: r1i1p1\n",
      "          exp: historical\n",
      "          timerange: 2000/2002\n",
      "          ancillary_variables:\n",
      "          - short_name: areacella\n",
      "            mip: fx\n",
      "            ensemble: r0i0p0\n",
      "      pr:\n",
      "        additional_datasets:\n",
      "        - mip: Amon\n",
      "          project: CMIP5\n",
      "          dataset: CanESM2\n",
      "          ensemble: r1i1p1\n",
      "          exp: historical\n",
      "          timerange: 2000/2002\n",
      "          ancillary_variables:\n",
      "          - short_name: areacella\n",
      "            mip: fx\n",
      "            ensemble: r0i0p0\n",
      "\n"
     ]
    }
   ],
   "source": [
    "ds['diagnostic'] = 'diagnostic'\n",
    "\n",
    "tas = ds.copy()\n",
    "pr = ds.copy(short_name='pr')\n",
    "print(yaml.safe_dump(datasets_to_recipe([tas, pr]), sort_keys=False))"
   ]
  },
  {
   "cell_type": "code",
   "execution_count": 10,
   "id": "ec3196d1-ff4b-4c3d-baa5-52f098c761bf",
   "metadata": {},
   "outputs": [
    {
     "data": {
      "text/plain": [
       "Dataset:\n",
       "{'dataset': 'CanESM2',\n",
       " 'project': 'CMIP5',\n",
       " 'mip': 'Amon',\n",
       " 'short_name': 'tas',\n",
       " 'ensemble': 'r1i1p1',\n",
       " 'exp': 'historical',\n",
       " 'timerange': '*'}"
      ]
     },
     "execution_count": 10,
     "metadata": {},
     "output_type": "execute_result"
    }
   ],
   "source": [
    "ds2 = Dataset(short_name='tas', mip='Amon', project='CMIP5', dataset='CanESM2', ensemble='r1i1p1', exp='historical', timerange='*')\n",
    "ds2"
   ]
  },
  {
   "cell_type": "code",
   "execution_count": 11,
   "id": "027f8606-5470-4ef1-80f3-3481e22584a6",
   "metadata": {},
   "outputs": [
    {
     "ename": "KeyError",
     "evalue": "'timerange'",
     "output_type": "error",
     "traceback": [
      "\u001b[0;31m---------------------------------------------------------------------------\u001b[0m",
      "\u001b[0;31mKeyError\u001b[0m                                  Traceback (most recent call last)",
      "Input \u001b[0;32mIn [11]\u001b[0m, in \u001b[0;36m<cell line: 1>\u001b[0;34m()\u001b[0m\n\u001b[0;32m----> 1\u001b[0m \u001b[43mds2\u001b[49m\u001b[38;5;241;43m.\u001b[39;49m\u001b[43maugment_facets\u001b[49m\u001b[43m(\u001b[49m\u001b[43msession\u001b[49m\u001b[43m)\u001b[49m\n",
      "File \u001b[0;32m~/src/esmvalgroup/esmvalcore/esmvalcore/dataset.py:143\u001b[0m, in \u001b[0;36mDataset.augment_facets\u001b[0;34m(self, session)\u001b[0m\n\u001b[1;32m    141\u001b[0m \u001b[38;5;28;01mif\u001b[39;00m session \u001b[38;5;129;01mis\u001b[39;00m \u001b[38;5;28;01mNone\u001b[39;00m:\n\u001b[1;32m    142\u001b[0m     session \u001b[38;5;241m=\u001b[39m \u001b[38;5;28mself\u001b[39m\u001b[38;5;241m.\u001b[39msession\n\u001b[0;32m--> 143\u001b[0m \u001b[38;5;28;43mself\u001b[39;49m\u001b[38;5;241;43m.\u001b[39;49m\u001b[43m_augment_facets\u001b[49m\u001b[43m(\u001b[49m\u001b[43msession\u001b[49m\u001b[43m)\u001b[49m\n\u001b[1;32m    144\u001b[0m \u001b[38;5;28;01mfor\u001b[39;00m ancillary \u001b[38;5;129;01min\u001b[39;00m \u001b[38;5;28mself\u001b[39m\u001b[38;5;241m.\u001b[39mancillaries:\n\u001b[1;32m    145\u001b[0m     ancillary\u001b[38;5;241m.\u001b[39m_augment_facets(session)\n",
      "File \u001b[0;32m~/src/esmvalgroup/esmvalcore/esmvalcore/dataset.py:159\u001b[0m, in \u001b[0;36mDataset._augment_facets\u001b[0;34m(self, session)\u001b[0m\n\u001b[1;32m    157\u001b[0m _get_facets_from_cmor_table(\u001b[38;5;28mself\u001b[39m\u001b[38;5;241m.\u001b[39mfacets)\n\u001b[1;32m    158\u001b[0m _get_timerange_from_years(\u001b[38;5;28mself\u001b[39m\u001b[38;5;241m.\u001b[39mfacets)\n\u001b[0;32m--> 159\u001b[0m \u001b[43m_update_timerange\u001b[49m\u001b[43m(\u001b[49m\u001b[38;5;28;43mself\u001b[39;49m\u001b[43m,\u001b[49m\u001b[43m \u001b[49m\u001b[43msession\u001b[49m\u001b[43m)\u001b[49m\n",
      "File \u001b[0;32m~/src/esmvalgroup/esmvalcore/esmvalcore/dataset.py:309\u001b[0m, in \u001b[0;36m_update_timerange\u001b[0;34m(dataset, session)\u001b[0m\n\u001b[1;32m    307\u001b[0m \u001b[38;5;28;01mif\u001b[39;00m \u001b[38;5;124m'\u001b[39m\u001b[38;5;124m*\u001b[39m\u001b[38;5;124m'\u001b[39m \u001b[38;5;129;01min\u001b[39;00m timerange:\n\u001b[1;32m    308\u001b[0m     dataset\u001b[38;5;241m.\u001b[39mfacets\u001b[38;5;241m.\u001b[39mpop(\u001b[38;5;124m'\u001b[39m\u001b[38;5;124mtimerange\u001b[39m\u001b[38;5;124m'\u001b[39m)\n\u001b[0;32m--> 309\u001b[0m     \u001b[43mdataset\u001b[49m\u001b[38;5;241;43m.\u001b[39;49m\u001b[43mfind_files\u001b[49m\u001b[43m(\u001b[49m\u001b[43msession\u001b[49m\u001b[43m)\u001b[49m\n\u001b[1;32m    310\u001b[0m     dataset\u001b[38;5;241m.\u001b[39mfacets[\u001b[38;5;124m'\u001b[39m\u001b[38;5;124mtimerange\u001b[39m\u001b[38;5;124m'\u001b[39m] \u001b[38;5;241m=\u001b[39m timerange\n\u001b[1;32m    311\u001b[0m     \u001b[38;5;28;01mif\u001b[39;00m \u001b[38;5;129;01mnot\u001b[39;00m dataset\u001b[38;5;241m.\u001b[39mfiles:\n",
      "File \u001b[0;32m~/src/esmvalgroup/esmvalcore/esmvalcore/dataset.py:166\u001b[0m, in \u001b[0;36mDataset.find_files\u001b[0;34m(self, session)\u001b[0m\n\u001b[1;32m    164\u001b[0m     session \u001b[38;5;241m=\u001b[39m \u001b[38;5;28mself\u001b[39m\u001b[38;5;241m.\u001b[39msession\n\u001b[1;32m    165\u001b[0m \u001b[38;5;28mself\u001b[39m\u001b[38;5;241m.\u001b[39maugment_facets(session)\n\u001b[0;32m--> 166\u001b[0m \u001b[38;5;28;43mself\u001b[39;49m\u001b[38;5;241;43m.\u001b[39;49m\u001b[43m_find_files\u001b[49m\u001b[43m(\u001b[49m\u001b[43msession\u001b[49m\u001b[43m)\u001b[49m\n\u001b[1;32m    167\u001b[0m \u001b[38;5;28;01mfor\u001b[39;00m ancillary \u001b[38;5;129;01min\u001b[39;00m \u001b[38;5;28mself\u001b[39m\u001b[38;5;241m.\u001b[39mancillaries:\n\u001b[1;32m    168\u001b[0m     ancillary\u001b[38;5;241m.\u001b[39m_find_files(session)\n",
      "File \u001b[0;32m~/src/esmvalgroup/esmvalcore/esmvalcore/dataset.py:173\u001b[0m, in \u001b[0;36mDataset._find_files\u001b[0;34m(self, session)\u001b[0m\n\u001b[1;32m    171\u001b[0m facets \u001b[38;5;241m=\u001b[39m \u001b[38;5;28mdict\u001b[39m(\u001b[38;5;28mself\u001b[39m\u001b[38;5;241m.\u001b[39mfacets)\n\u001b[1;32m    172\u001b[0m \u001b[38;5;28;01mif\u001b[39;00m facets[\u001b[38;5;124m'\u001b[39m\u001b[38;5;124mfrequency\u001b[39m\u001b[38;5;124m'\u001b[39m] \u001b[38;5;241m!=\u001b[39m \u001b[38;5;124m'\u001b[39m\u001b[38;5;124mfx\u001b[39m\u001b[38;5;124m'\u001b[39m:\n\u001b[0;32m--> 173\u001b[0m     start_year, end_year \u001b[38;5;241m=\u001b[39m _parse_period(\u001b[43mfacets\u001b[49m\u001b[43m[\u001b[49m\u001b[38;5;124;43m'\u001b[39;49m\u001b[38;5;124;43mtimerange\u001b[39;49m\u001b[38;5;124;43m'\u001b[39;49m\u001b[43m]\u001b[49m)\n\u001b[1;32m    175\u001b[0m     start_year \u001b[38;5;241m=\u001b[39m \u001b[38;5;28mint\u001b[39m(\u001b[38;5;28mstr\u001b[39m(start_year[\u001b[38;5;241m0\u001b[39m:\u001b[38;5;241m4\u001b[39m]))\n\u001b[1;32m    176\u001b[0m     end_year \u001b[38;5;241m=\u001b[39m \u001b[38;5;28mint\u001b[39m(\u001b[38;5;28mstr\u001b[39m(end_year[\u001b[38;5;241m0\u001b[39m:\u001b[38;5;241m4\u001b[39m]))\n",
      "\u001b[0;31mKeyError\u001b[0m: 'timerange'"
     ]
    }
   ],
   "source": [
    "ds2.augment_facets(session)"
   ]
  },
  {
   "cell_type": "code",
   "execution_count": null,
   "id": "288417a0-24db-4d92-a3bb-be29c5934a2d",
   "metadata": {},
   "outputs": [],
   "source": []
  }
 ],
 "metadata": {
  "kernelspec": {
   "display_name": "Python 3 (ipykernel)",
   "language": "python",
   "name": "python3"
  },
  "language_info": {
   "codemirror_mode": {
    "name": "ipython",
    "version": 3
   },
   "file_extension": ".py",
   "mimetype": "text/x-python",
   "name": "python",
   "nbconvert_exporter": "python",
   "pygments_lexer": "ipython3",
   "version": "3.10.4"
  }
 },
 "nbformat": 4,
 "nbformat_minor": 5
}
