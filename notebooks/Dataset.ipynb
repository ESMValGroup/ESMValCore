{
 "cells": [
  {
   "cell_type": "code",
   "execution_count": 1,
   "id": "f0ccfe7f-c535-4606-99ce-be24960aece1",
   "metadata": {},
   "outputs": [],
   "source": [
    "from esmvalcore.experimental import CFG\n",
    "from esmvalcore.dataset import Dataset, datasets_to_recipe\n",
    "import yaml"
   ]
  },
  {
   "cell_type": "code",
   "execution_count": 2,
   "id": "5ece21dc-5531-42f4-b733-a2912a30a191",
   "metadata": {},
   "outputs": [
    {
     "data": {
      "text/plain": [
       "Session({'auxiliary_data_dir': PosixPath('/home/bandela/esmvaltool_extra_data'),\n",
       "         'check_level': <CheckLevels.DEFAULT: 3>,\n",
       "         'compress_netcdf': False,\n",
       "         'config_developer_file': None,\n",
       "         'config_file': PosixPath('/home/bandela/.esmvaltool/config-user.yml'),\n",
       "         'download_dir': PosixPath('/home/bandela/climate_data'),\n",
       "         'drs': {'CMIP3': 'ESGF',\n",
       "                 'CMIP5': 'ESGF',\n",
       "                 'CMIP6': 'ESGF',\n",
       "                 'CORDEX': 'ESGF',\n",
       "                 'obs4MIPs': 'ESGF'},\n",
       "         'exit_on_warning': False,\n",
       "         'extra_facets_dir': (),\n",
       "         'log_level': 'info',\n",
       "         'max_datasets': None,\n",
       "         'max_parallel_tasks': 1,\n",
       "         'max_years': None,\n",
       "         'offline': True,\n",
       "         'output_dir': PosixPath('/home/bandela/esmvaltool_output'),\n",
       "         'output_file_type': 'png',\n",
       "         'profile_diagnostic': False,\n",
       "         'remove_preproc_dir': False,\n",
       "         'resume_from': [],\n",
       "         'rootpath': {'OBS': [PosixPath('/home/bandela/esmvaltool_input/OBS')],\n",
       "                      'OBS6': [PosixPath('/home/bandela/esmvaltool_input/OBS6')],\n",
       "                      'RAWOBS': [PosixPath('/home/bandela/esmvaltool_input/RAWOBS')],\n",
       "                      'default': [PosixPath('/home/bandela/climate_data')],\n",
       "                      'native6': [PosixPath('/home/bandela/esmvaltool_input/RAWOBS')]},\n",
       "         'run_diagnostic': True,\n",
       "         'save_intermediary_cubes': False})"
      ]
     },
     "execution_count": 2,
     "metadata": {},
     "output_type": "execute_result"
    }
   ],
   "source": [
    "session = CFG.start_session('test_session')\n",
    "session"
   ]
  },
  {
   "cell_type": "code",
   "execution_count": 3,
   "id": "50a2736f-a5ef-4d06-8685-0d4564ce28b8",
   "metadata": {},
   "outputs": [
    {
     "data": {
      "text/plain": [
       "Dataset:\n",
       "{'dataset': 'CanESM2',\n",
       " 'project': 'CMIP5',\n",
       " 'mip': 'Amon',\n",
       " 'short_name': 'tas',\n",
       " 'ensemble': 'r1i1p1',\n",
       " 'exp': 'historical',\n",
       " 'timerange': '2000/2002'}"
      ]
     },
     "execution_count": 3,
     "metadata": {},
     "output_type": "execute_result"
    }
   ],
   "source": [
    "ds = Dataset(short_name='tas', mip='Amon', project='CMIP5', dataset='CanESM2', ensemble='r1i1p1', exp='historical', timerange='2000/2002')\n",
    "ds"
   ]
  },
  {
   "cell_type": "code",
   "execution_count": 4,
   "id": "d1de7ab3-f0ab-40c7-ab19-c9921b755f44",
   "metadata": {},
   "outputs": [
    {
     "data": {
      "text/plain": [
       "[Dataset:\n",
       " {'dataset': 'CanESM2',\n",
       "  'project': 'CMIP5',\n",
       "  'mip': 'fx',\n",
       "  'short_name': 'areacella',\n",
       "  'ensemble': 'r0i0p0',\n",
       "  'exp': 'historical',\n",
       "  'timerange': '2000/2002'}]"
      ]
     },
     "execution_count": 4,
     "metadata": {},
     "output_type": "execute_result"
    }
   ],
   "source": [
    "ds.add_ancillary(short_name='areacella', mip='fx', ensemble='r0i0p0')\n",
    "ds.ancillaries"
   ]
  },
  {
   "cell_type": "code",
   "execution_count": 5,
   "id": "8c390e6d-a5bd-43bf-b48d-3b17dfdf1061",
   "metadata": {},
   "outputs": [
    {
     "name": "stdout",
     "output_type": "stream",
     "text": [
      "Dataset:\n",
      "{'dataset': 'CanESM2',\n",
      " 'project': 'CMIP5',\n",
      " 'mip': 'Amon',\n",
      " 'short_name': 'tas',\n",
      " 'ensemble': 'r1i1p1',\n",
      " 'exp': 'historical',\n",
      " 'frequency': 'mon',\n",
      " 'institute': ['CCCma'],\n",
      " 'long_name': 'Near-Surface Air Temperature',\n",
      " 'modeling_realm': ['atmos'],\n",
      " 'original_short_name': 'tas',\n",
      " 'product': ['output1', 'output2'],\n",
      " 'standard_name': 'air_temperature',\n",
      " 'timerange': '2000/2002',\n",
      " 'units': 'K'}\n",
      "ancillaries:\n",
      "  {'dataset': 'CanESM2',\n",
      "   'project': 'CMIP5',\n",
      "   'mip': 'fx',\n",
      "   'short_name': 'areacella',\n",
      "   'ensemble': 'r0i0p0',\n",
      "   'exp': 'historical',\n",
      "   'frequency': 'fx',\n",
      "   'institute': ['CCCma'],\n",
      "   'long_name': 'Atmosphere Grid-Cell Area',\n",
      "   'modeling_realm': ['atmos', 'land'],\n",
      "   'original_short_name': 'areacella',\n",
      "   'product': ['output1', 'output2'],\n",
      "   'standard_name': 'cell_area',\n",
      "   'units': 'm2'}\n",
      "[Dataset:\n",
      "{'dataset': 'CanESM2',\n",
      " 'project': 'CMIP5',\n",
      " 'mip': 'fx',\n",
      " 'short_name': 'areacella',\n",
      " 'ensemble': 'r0i0p0',\n",
      " 'exp': 'historical',\n",
      " 'frequency': 'fx',\n",
      " 'institute': ['CCCma'],\n",
      " 'long_name': 'Atmosphere Grid-Cell Area',\n",
      " 'modeling_realm': ['atmos', 'land'],\n",
      " 'original_short_name': 'areacella',\n",
      " 'product': ['output1', 'output2'],\n",
      " 'standard_name': 'cell_area',\n",
      " 'units': 'm2'}]\n"
     ]
    }
   ],
   "source": [
    "ds.session = session\n",
    "ds.augment_facets()\n",
    "print(ds)\n",
    "print(ds.ancillaries)"
   ]
  },
  {
   "cell_type": "code",
   "execution_count": 6,
   "id": "b01e5331-1ea9-4782-953c-f0b47d857657",
   "metadata": {},
   "outputs": [
    {
     "name": "stdout",
     "output_type": "stream",
     "text": [
      "['/home/bandela/climate_data/cmip5/output1/CCCma/CanESM2/historical/mon/atmos/Amon/r1i1p1/v20120718/tas_Amon_CanESM2_historical_r1i1p1_185001-200512.nc']\n",
      "['/home/bandela/climate_data/cmip5/output1/CCCma/CanESM2/historical/fx/atmos/fx/r0i0p0/v20120410/areacella_fx_CanESM2_historical_r0i0p0.nc']\n"
     ]
    }
   ],
   "source": [
    "ds.find_files()\n",
    "print(ds.files)\n",
    "for anc in ds.ancillaries:\n",
    "    print(anc.files)"
   ]
  },
  {
   "cell_type": "code",
   "execution_count": 7,
   "id": "14197fe3-810d-45ee-beb5-879574d9ff1d",
   "metadata": {},
   "outputs": [],
   "source": [
    "#cube = ds.load()\n",
    "#cube"
   ]
  },
  {
   "cell_type": "code",
   "execution_count": 8,
   "id": "24cc0294-a4e3-4d0b-8769-5ea9c0f8584c",
   "metadata": {},
   "outputs": [],
   "source": [
    "#cell_area = cube.cell_measures()[0]\n",
    "#cell_area"
   ]
  },
  {
   "cell_type": "code",
   "execution_count": 9,
   "id": "d02ee238-d048-4908-acf9-29caea5ed59e",
   "metadata": {},
   "outputs": [
    {
     "name": "stdout",
     "output_type": "stream",
     "text": [
      "diagnostics:\n",
      "  diagnostic:\n",
      "    variables:\n",
      "      tas:\n",
      "        additional_datasets:\n",
      "        - mip: Amon\n",
      "          project: CMIP5\n",
      "          dataset: CanESM2\n",
      "          ensemble: r1i1p1\n",
      "          exp: historical\n",
      "          timerange: 2000/2002\n",
      "          ancillary_variables:\n",
      "          - short_name: areacella\n",
      "            mip: fx\n",
      "            ensemble: r0i0p0\n",
      "      pr:\n",
      "        additional_datasets:\n",
      "        - mip: Amon\n",
      "          project: CMIP5\n",
      "          dataset: CanESM2\n",
      "          ensemble: r1i1p1\n",
      "          exp: historical\n",
      "          timerange: 2000/2002\n",
      "          ancillary_variables:\n",
      "          - short_name: areacella\n",
      "            mip: fx\n",
      "            ensemble: r0i0p0\n",
      "\n"
     ]
    }
   ],
   "source": [
    "ds['diagnostic'] = 'diagnostic'\n",
    "\n",
    "tas = ds.copy()\n",
    "pr = ds.copy(short_name='pr')\n",
    "print(yaml.safe_dump(datasets_to_recipe([tas, pr]), sort_keys=False))"
   ]
  },
  {
   "cell_type": "code",
   "execution_count": 19,
   "id": "ec3196d1-ff4b-4c3d-baa5-52f098c761bf",
   "metadata": {},
   "outputs": [
    {
     "data": {
      "text/plain": [
       "Dataset:\n",
       "{'dataset': 'GFDL-ESM2G',\n",
       " 'project': 'CMIP5',\n",
       " 'mip': 'Amon',\n",
       " 'short_name': 'tas',\n",
       " 'ensemble': 'r1i1p1',\n",
       " 'exp': 'historical',\n",
       " 'timerange': '*'}"
      ]
     },
     "execution_count": 19,
     "metadata": {},
     "output_type": "execute_result"
    }
   ],
   "source": [
    "ds2 = Dataset(short_name='tas', mip='Amon', project='CMIP5', dataset='GFDL-ESM2G', ensemble='r1i1p1', exp='historical', timerange='*')\n",
    "ds2.session = session\n",
    "ds2"
   ]
  },
  {
   "cell_type": "code",
   "execution_count": 20,
   "id": "027f8606-5470-4ef1-80f3-3481e22584a6",
   "metadata": {},
   "outputs": [
    {
     "data": {
      "text/plain": [
       "['/home/bandela/climate_data/cmip5/output1/NOAA-GFDL/GFDL-ESM2G/historical/mon/atmos/Amon/r1i1p1/v20120412/tas_Amon_GFDL-ESM2G_historical_r1i1p1_198101-198512.nc',\n",
       " '/home/bandela/climate_data/cmip5/output1/NOAA-GFDL/GFDL-ESM2G/historical/mon/atmos/Amon/r1i1p1/v20120412/tas_Amon_GFDL-ESM2G_historical_r1i1p1_198601-199012.nc',\n",
       " '/home/bandela/climate_data/cmip5/output1/NOAA-GFDL/GFDL-ESM2G/historical/mon/atmos/Amon/r1i1p1/v20120412/tas_Amon_GFDL-ESM2G_historical_r1i1p1_199101-199512.nc',\n",
       " '/home/bandela/climate_data/cmip5/output1/NOAA-GFDL/GFDL-ESM2G/historical/mon/atmos/Amon/r1i1p1/v20120412/tas_Amon_GFDL-ESM2G_historical_r1i1p1_199601-200012.nc',\n",
       " '/home/bandela/climate_data/cmip5/output1/NOAA-GFDL/GFDL-ESM2G/historical/mon/atmos/Amon/r1i1p1/v20120412/tas_Amon_GFDL-ESM2G_historical_r1i1p1_200101-200512.nc']"
      ]
     },
     "execution_count": 20,
     "metadata": {},
     "output_type": "execute_result"
    }
   ],
   "source": [
    "ds2.files"
   ]
  },
  {
   "cell_type": "code",
   "execution_count": 21,
   "id": "288417a0-24db-4d92-a3bb-be29c5934a2d",
   "metadata": {},
   "outputs": [
    {
     "data": {
      "text/plain": [
       "[Dataset:\n",
       " {'dataset': 'GFDL-ESM2G',\n",
       "  'project': 'CMIP5',\n",
       "  'mip': 'Amon',\n",
       "  'short_name': 'tas',\n",
       "  'ensemble': 'r1i1p1',\n",
       "  'exp': 'historical',\n",
       "  'frequency': 'mon',\n",
       "  'institute': ['NOAA-GFDL'],\n",
       "  'long_name': 'Near-Surface Air Temperature',\n",
       "  'modeling_realm': ['atmos'],\n",
       "  'original_short_name': 'tas',\n",
       "  'product': ['output1', 'output2'],\n",
       "  'standard_name': 'air_temperature',\n",
       "  'timerange': '198101/200512',\n",
       "  'units': 'K'}]"
      ]
     },
     "execution_count": 21,
     "metadata": {},
     "output_type": "execute_result"
    }
   ],
   "source": [
    "ds2.expand()"
   ]
  },
  {
   "cell_type": "code",
   "execution_count": null,
   "id": "fada806b-b560-42ed-b59e-034490f2ab42",
   "metadata": {},
   "outputs": [],
   "source": []
  }
 ],
 "metadata": {
  "kernelspec": {
   "display_name": "Python 3 (ipykernel)",
   "language": "python",
   "name": "python3"
  },
  "language_info": {
   "codemirror_mode": {
    "name": "ipython",
    "version": 3
   },
   "file_extension": ".py",
   "mimetype": "text/x-python",
   "name": "python",
   "nbconvert_exporter": "python",
   "pygments_lexer": "ipython3",
   "version": "3.10.4"
  }
 },
 "nbformat": 4,
 "nbformat_minor": 5
}
