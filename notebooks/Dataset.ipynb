{
 "cells": [
  {
   "cell_type": "code",
   "execution_count": 1,
   "id": "f0ccfe7f-c535-4606-99ce-be24960aece1",
   "metadata": {},
   "outputs": [],
   "source": [
    "from esmvalcore.experimental import CFG\n",
    "from esmvalcore.dataset import Dataset, datasets_to_recipe, datasets_from_recipe\n",
    "import yaml"
   ]
  },
  {
   "cell_type": "code",
   "execution_count": 2,
   "id": "5ece21dc-5531-42f4-b733-a2912a30a191",
   "metadata": {},
   "outputs": [
    {
     "data": {
      "text/plain": [
       "Session({'auxiliary_data_dir': PosixPath('/home/bandela/esmvaltool_extra_data'),\n",
       "         'check_level': <CheckLevels.DEFAULT: 3>,\n",
       "         'compress_netcdf': False,\n",
       "         'config_developer_file': PosixPath('/home/bandela/src/esmvalgroup/esmvalcore/esmvalcore/config-developer.yml'),\n",
       "         'config_file': PosixPath('/home/bandela/.esmvaltool/config-user.yml'),\n",
       "         'diagnostics': None,\n",
       "         'download_dir': PosixPath('/home/bandela/climate_data'),\n",
       "         'download_latest_datasets': False,\n",
       "         'drs': {'CMIP3': 'ESGF',\n",
       "                 'CMIP5': 'ESGF',\n",
       "                 'CMIP6': 'ESGF',\n",
       "                 'CORDEX': 'ESGF',\n",
       "                 'obs4MIPs': 'ESGF'},\n",
       "         'exit_on_warning': False,\n",
       "         'extra_facets_dir': (),\n",
       "         'log_level': 'info',\n",
       "         'max_datasets': None,\n",
       "         'max_parallel_tasks': None,\n",
       "         'max_years': None,\n",
       "         'offline': False,\n",
       "         'output_dir': PosixPath('/home/bandela/esmvaltool_output'),\n",
       "         'output_file_type': 'png',\n",
       "         'profile_diagnostic': False,\n",
       "         'remove_preproc_dir': True,\n",
       "         'resume_from': [],\n",
       "         'rootpath': {'OBS': [PosixPath('/home/bandela/esmvaltool_input/OBS')],\n",
       "                      'OBS6': [PosixPath('/home/bandela/esmvaltool_input/OBS6')],\n",
       "                      'RAWOBS': [PosixPath('/home/bandela/esmvaltool_input/RAWOBS')],\n",
       "                      'default': [PosixPath('/home/bandela/climate_data')],\n",
       "                      'native6': [PosixPath('/home/bandela/esmvaltool_input/RAWOBS')]},\n",
       "         'run_diagnostic': True,\n",
       "         'save_intermediary_cubes': False,\n",
       "         'skip_nonexistent': False})"
      ]
     },
     "execution_count": 2,
     "metadata": {},
     "output_type": "execute_result"
    }
   ],
   "source": [
    "session = CFG.start_session('test_session')\n",
    "session"
   ]
  },
  {
   "cell_type": "code",
   "execution_count": 3,
   "id": "50a2736f-a5ef-4d06-8685-0d4564ce28b8",
   "metadata": {},
   "outputs": [
    {
     "data": {
      "text/plain": [
       "Dataset:\n",
       "{'dataset': 'CanESM2',\n",
       " 'project': 'CMIP5',\n",
       " 'mip': 'Amon',\n",
       " 'short_name': 'tas',\n",
       " 'ensemble': 'r1i1p1',\n",
       " 'exp': 'historical',\n",
       " 'timerange': '2000/2002'}"
      ]
     },
     "execution_count": 3,
     "metadata": {},
     "output_type": "execute_result"
    }
   ],
   "source": [
    "ds = Dataset(short_name='tas', mip='Amon', project='CMIP5', dataset='CanESM2', ensemble='r1i1p1', exp='historical', timerange='2000/2002')\n",
    "ds"
   ]
  },
  {
   "cell_type": "code",
   "execution_count": 4,
   "id": "d1de7ab3-f0ab-40c7-ab19-c9921b755f44",
   "metadata": {},
   "outputs": [
    {
     "data": {
      "text/plain": [
       "[Dataset:\n",
       " {'dataset': 'CanESM2',\n",
       "  'project': 'CMIP5',\n",
       "  'mip': 'fx',\n",
       "  'short_name': 'areacella',\n",
       "  'ensemble': 'r0i0p0',\n",
       "  'exp': 'historical',\n",
       "  'timerange': '2000/2002'}]"
      ]
     },
     "execution_count": 4,
     "metadata": {},
     "output_type": "execute_result"
    }
   ],
   "source": [
    "ds.add_ancillary(short_name='areacella', mip='fx', ensemble='r0i0p0')\n",
    "ds.ancillaries"
   ]
  },
  {
   "cell_type": "code",
   "execution_count": 5,
   "id": "8c390e6d-a5bd-43bf-b48d-3b17dfdf1061",
   "metadata": {},
   "outputs": [
    {
     "data": {
      "text/plain": [
       "Dataset:\n",
       "{'dataset': 'CanESM2',\n",
       " 'project': 'CMIP5',\n",
       " 'mip': 'Amon',\n",
       " 'short_name': 'tas',\n",
       " 'ensemble': 'r1i1p1',\n",
       " 'exp': 'historical',\n",
       " 'frequency': 'mon',\n",
       " 'institute': ['CCCma'],\n",
       " 'long_name': 'Near-Surface Air Temperature',\n",
       " 'modeling_realm': ['atmos'],\n",
       " 'original_short_name': 'tas',\n",
       " 'product': ['output1', 'output2'],\n",
       " 'standard_name': 'air_temperature',\n",
       " 'timerange': '2000/2002',\n",
       " 'units': 'K'}\n",
       "ancillaries:\n",
       "  {'dataset': 'CanESM2',\n",
       "   'project': 'CMIP5',\n",
       "   'mip': 'fx',\n",
       "   'short_name': 'areacella',\n",
       "   'ensemble': 'r0i0p0',\n",
       "   'exp': 'historical',\n",
       "   'frequency': 'fx',\n",
       "   'institute': ['CCCma'],\n",
       "   'long_name': 'Atmosphere Grid-Cell Area',\n",
       "   'modeling_realm': ['atmos', 'land'],\n",
       "   'original_short_name': 'areacella',\n",
       "   'product': ['output1', 'output2'],\n",
       "   'standard_name': 'cell_area',\n",
       "   'units': 'm2'}"
      ]
     },
     "execution_count": 5,
     "metadata": {},
     "output_type": "execute_result"
    }
   ],
   "source": [
    "ds.session = session\n",
    "ds.augment_facets()\n",
    "ds"
   ]
  },
  {
   "cell_type": "code",
   "execution_count": 6,
   "id": "b01e5331-1ea9-4782-953c-f0b47d857657",
   "metadata": {},
   "outputs": [
    {
     "name": "stdout",
     "output_type": "stream",
     "text": [
      "[PosixPath('/home/bandela/climate_data/cmip5/output1/CCCma/CanESM2/historical/mon/atmos/Amon/r1i1p1/v20120718/tas_Amon_CanESM2_historical_r1i1p1_185001-200512.nc')]\n",
      "[PosixPath('/home/bandela/climate_data/cmip5/output1/CCCma/CanESM2/historical/fx/atmos/fx/r0i0p0/v20120410/areacella_fx_CanESM2_historical_r0i0p0.nc')]\n"
     ]
    }
   ],
   "source": [
    "ds.find_files()\n",
    "print(ds.files)\n",
    "for anc in ds.ancillaries:\n",
    "    print(anc.files)"
   ]
  },
  {
   "cell_type": "code",
   "execution_count": 7,
   "id": "14197fe3-810d-45ee-beb5-879574d9ff1d",
   "metadata": {},
   "outputs": [
    {
     "data": {
      "text/html": [
       "\n",
       "<style>\n",
       "  a.iris {\n",
       "      text-decoration: none !important;\n",
       "  }\n",
       "  table.iris {\n",
       "      white-space: pre;\n",
       "      border: 1px solid;\n",
       "      border-color: #9c9c9c;\n",
       "      font-family: monaco, monospace;\n",
       "  }\n",
       "  th.iris {\n",
       "      background: #303f3f;\n",
       "      color: #e0e0e0;\n",
       "      border-left: 1px solid;\n",
       "      border-color: #9c9c9c;\n",
       "      font-size: 1.05em;\n",
       "      min-width: 50px;\n",
       "      max-width: 125px;\n",
       "  }\n",
       "  tr.iris :first-child {\n",
       "      border-right: 1px solid #9c9c9c !important;\n",
       "  }\n",
       "  td.iris-title {\n",
       "      background: #d5dcdf;\n",
       "      border-top: 1px solid #9c9c9c;\n",
       "      font-weight: bold;\n",
       "  }\n",
       "  .iris-word-cell {\n",
       "      text-align: left !important;\n",
       "      white-space: pre;\n",
       "  }\n",
       "  .iris-subheading-cell {\n",
       "      padding-left: 2em !important;\n",
       "  }\n",
       "  .iris-inclusion-cell {\n",
       "      padding-right: 1em !important;\n",
       "  }\n",
       "  .iris-panel-body {\n",
       "      padding-top: 0px;\n",
       "  }\n",
       "  .iris-panel-title {\n",
       "      padding-left: 3em;\n",
       "  }\n",
       "  .iris-panel-title {\n",
       "      margin-top: 7px;\n",
       "  }\n",
       "</style>\n",
       "<table class=\"iris\" id=\"140484024204880\">\n",
       "    <tr class=\"iris\">\n",
       "<th class=\"iris iris-word-cell\">Air Temperature (K)</th>\n",
       "<th class=\"iris iris-word-cell\">time</th>\n",
       "<th class=\"iris iris-word-cell\">latitude</th>\n",
       "<th class=\"iris iris-word-cell\">longitude</th>\n",
       "</tr>\n",
       "    <tr class=\"iris\">\n",
       "<td class=\"iris-word-cell iris-subheading-cell\">Shape</td>\n",
       "<td class=\"iris iris-inclusion-cell\">36</td>\n",
       "<td class=\"iris iris-inclusion-cell\">64</td>\n",
       "<td class=\"iris iris-inclusion-cell\">128</td>\n",
       "</tr>\n",
       "    <tr class=\"iris\">\n",
       "    <td class=\"iris-title iris-word-cell\">Dimension coordinates</td>\n",
       "    <td class=\"iris-title\"></td>\n",
       "    <td class=\"iris-title\"></td>\n",
       "    <td class=\"iris-title\"></td>\n",
       "</tr>\n",
       "<tr class=\"iris\">\n",
       "    <td class=\"iris-word-cell iris-subheading-cell\">\ttime</td>\n",
       "    <td class=\"iris-inclusion-cell\">x</td>\n",
       "    <td class=\"iris-inclusion-cell\">-</td>\n",
       "    <td class=\"iris-inclusion-cell\">-</td>\n",
       "</tr>\n",
       "<tr class=\"iris\">\n",
       "    <td class=\"iris-word-cell iris-subheading-cell\">\tlatitude</td>\n",
       "    <td class=\"iris-inclusion-cell\">-</td>\n",
       "    <td class=\"iris-inclusion-cell\">x</td>\n",
       "    <td class=\"iris-inclusion-cell\">-</td>\n",
       "</tr>\n",
       "<tr class=\"iris\">\n",
       "    <td class=\"iris-word-cell iris-subheading-cell\">\tlongitude</td>\n",
       "    <td class=\"iris-inclusion-cell\">-</td>\n",
       "    <td class=\"iris-inclusion-cell\">-</td>\n",
       "    <td class=\"iris-inclusion-cell\">x</td>\n",
       "</tr>\n",
       "<tr class=\"iris\">\n",
       "    <td class=\"iris-title iris-word-cell\">Cell measures</td>\n",
       "    <td class=\"iris-title\"></td>\n",
       "    <td class=\"iris-title\"></td>\n",
       "    <td class=\"iris-title\"></td>\n",
       "</tr>\n",
       "<tr class=\"iris\">\n",
       "    <td class=\"iris-word-cell iris-subheading-cell\">\tcell_area</td>\n",
       "    <td class=\"iris-inclusion-cell\">-</td>\n",
       "    <td class=\"iris-inclusion-cell\">x</td>\n",
       "    <td class=\"iris-inclusion-cell\">x</td>\n",
       "</tr>\n",
       "<tr class=\"iris\">\n",
       "    <td class=\"iris-title iris-word-cell\">Scalar coordinates</td>\n",
       "    <td class=\"iris-title\"></td>\n",
       "    <td class=\"iris-title\"></td>\n",
       "    <td class=\"iris-title\"><br>height                      2.0 m</td>\n",
       "</tr>\n",
       "<tr class=\"iris\">\n",
       "    <td class=\"iris-title iris-word-cell\">Cell methods</td>\n",
       "    <td class=\"iris-title\"></td>\n",
       "    <td class=\"iris-title\"></td>\n",
       "    <td class=\"iris-title\"></td>\n",
       "</tr>\n",
       "<tr class=\"iris\">\n",
       "    <td class=\"iris-word-cell iris-subheading-cell\">\tmean                        time (15 minutes)</td>\n",
       "    <td class=\"iris-word-cell\" colspan=\"3\"></td>\n",
       "</tr>\n",
       "<tr class=\"iris\">\n",
       "    <td class=\"iris-title iris-word-cell\">Attributes</td>\n",
       "    <td class=\"iris-title\"></td>\n",
       "    <td class=\"iris-title\"></td>\n",
       "    <td class=\"iris-title\"><br>CCCma_data_licence          &#x27;1) GRANT OF LICENCE - The Government of Canada (Environment Canada) is...<br>CCCma_parent_runid          &#x27;IGA&#x27;<br>CCCma_runid                 &#x27;IGM&#x27;<br>Conventions                 &#x27;CF-1.4&#x27;</td>\n",
       "</tr>\n",
       "<tr class=\"iris\">\n",
       "    <td class=\"iris-word-cell iris-subheading-cell\">\tassociated_files            &#x27;baseURL</td>\n",
       "    <td class=\"iris-word-cell\" colspan=\"3\">http://cmip-pcmdi.llnl.gov/CMIP5/dataLocation gridspecFile: gridspec_atmos_fx_CanESM2_historical_r0i0p0.nc...<br>branch_time                 171915.0</td>\n",
       "</tr>\n",
       "<tr class=\"iris\">\n",
       "    <td class=\"iris-word-cell iris-subheading-cell\">\tbranch_time_YMDH            &#x27;2321</td>\n",
       "    <td class=\"iris-word-cell\" colspan=\"3\">1:01:00&#x27;<br>cmor_version                &#x27;2.5.4&#x27;<br>contact                     &#x27;cccma_info@ec.gc.ca&#x27;<br>experiment                  &#x27;historical&#x27;<br>experiment_id               &#x27;historical&#x27;<br>forcing                     &#x27;GHG,Oz,SA,BC,OC,LU,Sl,Vl (GHG includes CO2,CH4,N2O,CFC11,effective CF...<br>frequency                   &#x27;mon&#x27;<br>initialization_method       1<br>institute_id                &#x27;CCCma&#x27;<br>institution                 &#x27;CCCma (Canadian Centre for Climate Modelling and Analysis, Victoria, BC,...<br>model_id                    &#x27;CanESM2&#x27;<br>modeling_realm              &#x27;atmos&#x27;<br>original_name               &#x27;ST&#x27;<br>parent_experiment           &#x27;pre-industrial control&#x27;<br>parent_experiment_id        &#x27;piControl&#x27;<br>parent_experiment_rip       &#x27;r1i1p1&#x27;<br>physics_version             1<br>product                     &#x27;output&#x27;<br>project_id                  &#x27;CMIP5&#x27;<br>realization                 1</td>\n",
       "</tr>\n",
       "<tr class=\"iris\">\n",
       "    <td class=\"iris-word-cell iris-subheading-cell\">\treferences                  &#x27;http</td>\n",
       "    <td class=\"iris-word-cell\" colspan=\"3\">/www.cccma.ec.gc.ca/models&#x27;</td>\n",
       "</tr>\n",
       "<tr class=\"iris\">\n",
       "    <td class=\"iris-word-cell iris-subheading-cell\">\tsource                      &#x27;CanESM2 2010 atmosphere</td>\n",
       "    <td class=\"iris-word-cell\" colspan=\"3\">CanAM4 (AGCM15i, T63L35) ocean: CanOM4 (OGCM4.0,...<br>table_id                    &#x27;Table Amon (31 January 2011) 53b766a395ac41696af40aab76a49ae5&#x27;<br>title                       &#x27;CanESM2 model output prepared for CMIP5 historical&#x27;</td>\n",
       "</tr>\n",
       "</table>\n",
       "        "
      ],
      "text/plain": [
       "<iris 'Cube' of air_temperature / (K) (time: 36; latitude: 64; longitude: 128)>"
      ]
     },
     "execution_count": 7,
     "metadata": {},
     "output_type": "execute_result"
    }
   ],
   "source": [
    "cube = ds.load()\n",
    "cube"
   ]
  },
  {
   "cell_type": "code",
   "execution_count": 8,
   "id": "24cc0294-a4e3-4d0b-8769-5ea9c0f8584c",
   "metadata": {},
   "outputs": [
    {
     "data": {
      "text/plain": [
       "<CellMeasure: cell_area / (m2)  <lazy>  shape(64, 128)>"
      ]
     },
     "execution_count": 8,
     "metadata": {},
     "output_type": "execute_result"
    }
   ],
   "source": [
    "cell_area = cube.cell_measures()[0]\n",
    "cell_area"
   ]
  },
  {
   "cell_type": "code",
   "execution_count": 9,
   "id": "d02ee238-d048-4908-acf9-29caea5ed59e",
   "metadata": {},
   "outputs": [
    {
     "name": "stdout",
     "output_type": "stream",
     "text": [
      "diagnostics:\n",
      "  diagnostic:\n",
      "    variables:\n",
      "      tas:\n",
      "        additional_datasets:\n",
      "        - mip: Amon\n",
      "          project: CMIP5\n",
      "          dataset: CanESM2\n",
      "          ensemble: r1i1p1\n",
      "          exp: historical\n",
      "          timerange: 2000/2002\n",
      "          version: v20120718\n",
      "          ancillary_variables:\n",
      "          - short_name: areacella\n",
      "            mip: fx\n",
      "            ensemble: r0i0p0\n",
      "            version: v20120410\n",
      "      pr:\n",
      "        additional_datasets:\n",
      "        - mip: Amon\n",
      "          project: CMIP5\n",
      "          dataset: CanESM2\n",
      "          ensemble: r1i1p1\n",
      "          exp: historical\n",
      "          timerange: 2000/2002\n",
      "          version: v20120718\n",
      "          ancillary_variables:\n",
      "          - short_name: areacella\n",
      "            mip: fx\n",
      "            ensemble: r0i0p0\n",
      "            version: v20120410\n",
      "\n"
     ]
    }
   ],
   "source": [
    "ds['diagnostic'] = 'diagnostic'\n",
    "\n",
    "tas = ds.copy()\n",
    "pr = ds.copy(short_name='pr')\n",
    "print(yaml.safe_dump(datasets_to_recipe([tas, pr]), sort_keys=False))"
   ]
  },
  {
   "cell_type": "code",
   "execution_count": 10,
   "id": "ec3196d1-ff4b-4c3d-baa5-52f098c761bf",
   "metadata": {},
   "outputs": [
    {
     "data": {
      "text/plain": [
       "Dataset:\n",
       "{'dataset': 'GFDL-ESM2G',\n",
       " 'project': 'CMIP5',\n",
       " 'mip': 'Amon',\n",
       " 'short_name': 'tas',\n",
       " 'ensemble': 'r1i1p1',\n",
       " 'exp': 'historical',\n",
       " 'timerange': '*'}"
      ]
     },
     "execution_count": 10,
     "metadata": {},
     "output_type": "execute_result"
    }
   ],
   "source": [
    "ds2 = Dataset(short_name='tas', mip='Amon', project='CMIP5', dataset='GFDL-ESM2G', ensemble='r1i1p1', exp='historical', timerange='*')\n",
    "ds2.session = session\n",
    "ds2"
   ]
  },
  {
   "cell_type": "code",
   "execution_count": 11,
   "id": "027f8606-5470-4ef1-80f3-3481e22584a6",
   "metadata": {},
   "outputs": [
    {
     "data": {
      "text/plain": [
       "[PosixPath('/home/bandela/climate_data/cmip5/output1/NOAA-GFDL/GFDL-ESM2G/historical/mon/atmos/Amon/r1i1p1/v20120412/tas_Amon_GFDL-ESM2G_historical_r1i1p1_198101-198512.nc'),\n",
       " PosixPath('/home/bandela/climate_data/cmip5/output1/NOAA-GFDL/GFDL-ESM2G/historical/mon/atmos/Amon/r1i1p1/v20120412/tas_Amon_GFDL-ESM2G_historical_r1i1p1_198601-199012.nc'),\n",
       " PosixPath('/home/bandela/climate_data/cmip5/output1/NOAA-GFDL/GFDL-ESM2G/historical/mon/atmos/Amon/r1i1p1/v20120412/tas_Amon_GFDL-ESM2G_historical_r1i1p1_199101-199512.nc'),\n",
       " PosixPath('/home/bandela/climate_data/cmip5/output1/NOAA-GFDL/GFDL-ESM2G/historical/mon/atmos/Amon/r1i1p1/v20120412/tas_Amon_GFDL-ESM2G_historical_r1i1p1_199601-200012.nc'),\n",
       " PosixPath('/home/bandela/climate_data/cmip5/output1/NOAA-GFDL/GFDL-ESM2G/historical/mon/atmos/Amon/r1i1p1/v20120412/tas_Amon_GFDL-ESM2G_historical_r1i1p1_200101-200512.nc')]"
      ]
     },
     "execution_count": 11,
     "metadata": {},
     "output_type": "execute_result"
    }
   ],
   "source": [
    "ds2.files"
   ]
  },
  {
   "cell_type": "code",
   "execution_count": 12,
   "id": "fada806b-b560-42ed-b59e-034490f2ab42",
   "metadata": {},
   "outputs": [
    {
     "data": {
      "text/plain": [
       "Dataset:\n",
       "{'dataset': 'GFDL-ESM2G',\n",
       " 'project': 'CMIP5',\n",
       " 'mip': 'Amon',\n",
       " 'short_name': 'tas',\n",
       " 'ensemble': 'r1i1p1',\n",
       " 'exp': 'historical',\n",
       " 'frequency': 'mon',\n",
       " 'institute': ['NOAA-GFDL'],\n",
       " 'long_name': 'Near-Surface Air Temperature',\n",
       " 'modeling_realm': ['atmos'],\n",
       " 'original_short_name': 'tas',\n",
       " 'product': ['output1', 'output2'],\n",
       " 'standard_name': 'air_temperature',\n",
       " 'timerange': '198101/200512',\n",
       " 'units': 'K',\n",
       " 'version': 'v20120412'}"
      ]
     },
     "execution_count": 12,
     "metadata": {},
     "output_type": "execute_result"
    }
   ],
   "source": [
    "ds2"
   ]
  },
  {
   "cell_type": "code",
   "execution_count": 13,
   "id": "4b5f0acc-fd87-4137-8c88-6c2ac0789c89",
   "metadata": {},
   "outputs": [
    {
     "data": {
      "text/plain": [
       "[Dataset:\n",
       " {'diagnostic': 'map',\n",
       "  'variable_group': 'tas',\n",
       "  'dataset': 'BCC-ESM1',\n",
       "  'project': 'CMIP6',\n",
       "  'mip': 'Amon',\n",
       "  'short_name': 'tas',\n",
       "  'alias': 'CMIP6',\n",
       "  'end_year': 2000,\n",
       "  'ensemble': 'r1i1p1f1',\n",
       "  'exp': 'historical',\n",
       "  'grid': 'gn',\n",
       "  'preprocessor': 'select_january',\n",
       "  'recipe_dataset_index': 0,\n",
       "  'start_year': 2000}\n",
       " ancillaries:\n",
       "   {'diagnostic': 'map',\n",
       "    'variable_group': 'tas',\n",
       "    'dataset': 'BCC-ESM1',\n",
       "    'project': 'CMIP6',\n",
       "    'mip': 'fx',\n",
       "    'short_name': 'areacella',\n",
       "    'end_year': 2000,\n",
       "    'ensemble': 'r1i1p1f1',\n",
       "    'exp': '1pctCO2',\n",
       "    'grid': 'gn',\n",
       "    'start_year': 2000},\n",
       " Dataset:\n",
       " {'diagnostic': 'map',\n",
       "  'variable_group': 'tas',\n",
       "  'dataset': 'CanESM2',\n",
       "  'project': 'CMIP5',\n",
       "  'mip': 'Amon',\n",
       "  'short_name': 'tas',\n",
       "  'alias': 'CMIP5',\n",
       "  'end_year': 2000,\n",
       "  'ensemble': 'r1i1p1',\n",
       "  'exp': 'historical',\n",
       "  'preprocessor': 'select_january',\n",
       "  'recipe_dataset_index': 1,\n",
       "  'start_year': 2000}\n",
       " ancillaries:\n",
       "   {'diagnostic': 'map',\n",
       "    'variable_group': 'tas',\n",
       "    'dataset': 'CanESM2',\n",
       "    'project': 'CMIP5',\n",
       "    'mip': 'fx',\n",
       "    'short_name': 'areacella',\n",
       "    'end_year': 2000,\n",
       "    'ensemble': 'r0i0p0',\n",
       "    'exp': 'historical',\n",
       "    'start_year': 2000},\n",
       " Dataset:\n",
       " {'diagnostic': 'timeseries',\n",
       "  'variable_group': 'tas_amsterdam',\n",
       "  'dataset': 'BCC-ESM1',\n",
       "  'project': 'CMIP6',\n",
       "  'mip': 'Amon',\n",
       "  'short_name': 'tas',\n",
       "  'alias': 'CMIP6',\n",
       "  'end_year': 2000,\n",
       "  'ensemble': 'r1i1p1f1',\n",
       "  'exp': 'historical',\n",
       "  'grid': 'gn',\n",
       "  'preprocessor': 'annual_mean_amsterdam',\n",
       "  'recipe_dataset_index': 0,\n",
       "  'start_year': 1850}\n",
       " ancillaries:\n",
       "   {'diagnostic': 'timeseries',\n",
       "    'variable_group': 'tas_amsterdam',\n",
       "    'dataset': 'BCC-ESM1',\n",
       "    'project': 'CMIP6',\n",
       "    'mip': 'fx',\n",
       "    'short_name': 'areacella',\n",
       "    'end_year': 2000,\n",
       "    'ensemble': 'r1i1p1f1',\n",
       "    'exp': '1pctCO2',\n",
       "    'grid': 'gn',\n",
       "    'start_year': 1850},\n",
       " Dataset:\n",
       " {'diagnostic': 'timeseries',\n",
       "  'variable_group': 'tas_amsterdam',\n",
       "  'dataset': 'CanESM2',\n",
       "  'project': 'CMIP5',\n",
       "  'mip': 'Amon',\n",
       "  'short_name': 'tas',\n",
       "  'alias': 'CMIP5',\n",
       "  'end_year': 2000,\n",
       "  'ensemble': 'r1i1p1',\n",
       "  'exp': 'historical',\n",
       "  'preprocessor': 'annual_mean_amsterdam',\n",
       "  'recipe_dataset_index': 1,\n",
       "  'start_year': 1850}\n",
       " ancillaries:\n",
       "   {'diagnostic': 'timeseries',\n",
       "    'variable_group': 'tas_amsterdam',\n",
       "    'dataset': 'CanESM2',\n",
       "    'project': 'CMIP5',\n",
       "    'mip': 'fx',\n",
       "    'short_name': 'areacella',\n",
       "    'end_year': 2000,\n",
       "    'ensemble': 'r0i0p0',\n",
       "    'exp': 'historical',\n",
       "    'start_year': 1850},\n",
       " Dataset:\n",
       " {'diagnostic': 'timeseries',\n",
       "  'variable_group': 'tas_global',\n",
       "  'dataset': 'BCC-ESM1',\n",
       "  'project': 'CMIP6',\n",
       "  'mip': 'Amon',\n",
       "  'short_name': 'tas',\n",
       "  'alias': 'CMIP6',\n",
       "  'end_year': 2000,\n",
       "  'ensemble': 'r1i1p1f1',\n",
       "  'exp': 'historical',\n",
       "  'grid': 'gn',\n",
       "  'preprocessor': 'annual_mean_global',\n",
       "  'recipe_dataset_index': 0,\n",
       "  'start_year': 1850}\n",
       " ancillaries:\n",
       "   {'diagnostic': 'timeseries',\n",
       "    'variable_group': 'tas_global',\n",
       "    'dataset': 'BCC-ESM1',\n",
       "    'project': 'CMIP6',\n",
       "    'mip': 'fx',\n",
       "    'short_name': 'areacella',\n",
       "    'end_year': 2000,\n",
       "    'ensemble': 'r1i1p1f1',\n",
       "    'exp': '1pctCO2',\n",
       "    'grid': 'gn',\n",
       "    'start_year': 1850},\n",
       " Dataset:\n",
       " {'diagnostic': 'timeseries',\n",
       "  'variable_group': 'tas_global',\n",
       "  'dataset': 'CanESM2',\n",
       "  'project': 'CMIP5',\n",
       "  'mip': 'Amon',\n",
       "  'short_name': 'tas',\n",
       "  'alias': 'CMIP5',\n",
       "  'end_year': 2000,\n",
       "  'ensemble': 'r1i1p1',\n",
       "  'exp': 'historical',\n",
       "  'preprocessor': 'annual_mean_global',\n",
       "  'recipe_dataset_index': 1,\n",
       "  'start_year': 1850}\n",
       " ancillaries:\n",
       "   {'diagnostic': 'timeseries',\n",
       "    'variable_group': 'tas_global',\n",
       "    'dataset': 'CanESM2',\n",
       "    'project': 'CMIP5',\n",
       "    'mip': 'fx',\n",
       "    'short_name': 'areacella',\n",
       "    'end_year': 2000,\n",
       "    'ensemble': 'r0i0p0',\n",
       "    'exp': 'historical',\n",
       "    'start_year': 1850}]"
      ]
     },
     "execution_count": 13,
     "metadata": {},
     "output_type": "execute_result"
    }
   ],
   "source": [
    "with open(\"/home/bandela/src/esmvalgroup/esmvaltool/esmvaltool/recipes/examples/recipe_python_new_ancillary.yml\") as file:\n",
    "    datasets = datasets_from_recipe(yaml.safe_load(file), session)\n",
    "datasets"
   ]
  },
  {
   "cell_type": "code",
   "execution_count": null,
   "id": "93355266-1c41-4cb3-a272-b960f19fc39f",
   "metadata": {},
   "outputs": [],
   "source": []
  }
 ],
 "metadata": {
  "kernelspec": {
   "display_name": "Python 3 (ipykernel)",
   "language": "python",
   "name": "python3"
  },
  "language_info": {
   "codemirror_mode": {
    "name": "ipython",
    "version": 3
   },
   "file_extension": ".py",
   "mimetype": "text/x-python",
   "name": "python",
   "nbconvert_exporter": "python",
   "pygments_lexer": "ipython3",
   "version": "3.10.5"
  }
 },
 "nbformat": 4,
 "nbformat_minor": 5
}
